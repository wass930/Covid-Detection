{
 "cells": [
  {
   "cell_type": "code",
   "execution_count": 1,
   "metadata": {
    "executionInfo": {
     "elapsed": 3291,
     "status": "ok",
     "timestamp": 1622991883056,
     "user": {
      "displayName": "Wassim Choura",
      "photoUrl": "",
      "userId": "10130938976178051498"
     },
     "user_tz": -120
    },
    "id": "knEnBRZttM-k"
   },
   "outputs": [],
   "source": [
    "import glob\n",
    "import os \n",
    "from PIL import Image\n",
    "import matplotlib.pyplot as plt\n",
    "import numpy as np\n",
    "import random\n",
    "import pandas as pd\n",
    "import cv2\n",
    "import shutil\n",
    "import tensorflow as tf"
   ]
  },
  {
   "cell_type": "code",
   "execution_count": 2,
   "metadata": {
    "colab": {
     "base_uri": "https://localhost:8080/"
    },
    "executionInfo": {
     "elapsed": 95877,
     "status": "ok",
     "timestamp": 1622991999917,
     "user": {
      "displayName": "Wassim Choura",
      "photoUrl": "",
      "userId": "10130938976178051498"
     },
     "user_tz": -120
    },
    "id": "Nn5O_NEntUl1",
    "outputId": "45e8d67b-ae4a-490d-c054-7da48c5d2088"
   },
   "outputs": [
    {
     "name": "stdout",
     "output_type": "stream",
     "text": [
      "Mounted at /content/drive\n"
     ]
    }
   ],
   "source": [
    "from google.colab import drive\n",
    "drive.mount('/content/drive')"
   ]
  },
  {
   "cell_type": "code",
   "execution_count": 3,
   "metadata": {
    "executionInfo": {
     "elapsed": 10,
     "status": "ok",
     "timestamp": 1622992001375,
     "user": {
      "displayName": "Wassim Choura",
      "photoUrl": "",
      "userId": "10130938976178051498"
     },
     "user_tz": -120
    },
    "id": "pWvCjdIctXAq"
   },
   "outputs": [],
   "source": [
    "root_dir=r'/content/drive/MyDrive/COVID-19_Radiography_Dataset'\n",
    "classes_dir=['COVID-19(-)','COVID-19(+)']"
   ]
  },
  {
   "cell_type": "code",
   "execution_count": 4,
   "metadata": {
    "executionInfo": {
     "elapsed": 5,
     "status": "ok",
     "timestamp": 1622992002682,
     "user": {
      "displayName": "Wassim Choura",
      "photoUrl": "",
      "userId": "10130938976178051498"
     },
     "user_tz": -120
    },
    "id": "Ectt5aHFtgVT"
   },
   "outputs": [],
   "source": [
    "path_train=r\"/content/drive/MyDrive/COVID-19_Radiography_Dataset/train\"\n",
    "path_valid=r\"/content/drive/MyDrive/COVID-19_Radiography_Dataset/val\"\n",
    "path_test=r\"/content/drive/MyDrive/COVID-19_Radiography_Dataset/test\""
   ]
  },
  {
   "cell_type": "code",
   "execution_count": 5,
   "metadata": {
    "executionInfo": {
     "elapsed": 9,
     "status": "ok",
     "timestamp": 1622992003819,
     "user": {
      "displayName": "Wassim Choura",
      "photoUrl": "",
      "userId": "10130938976178051498"
     },
     "user_tz": -120
    },
    "id": "Lu7N90imtmWr"
   },
   "outputs": [],
   "source": [
    "assign_dict = {\"NORMAL\":0, \"COVID\":1}\n",
    "img_size = 175"
   ]
  },
  {
   "cell_type": "code",
   "execution_count": 6,
   "metadata": {
    "executionInfo": {
     "elapsed": 4,
     "status": "ok",
     "timestamp": 1622992005147,
     "user": {
      "displayName": "Wassim Choura",
      "photoUrl": "",
      "userId": "10130938976178051498"
     },
     "user_tz": -120
    },
    "id": "J-s9cakVtmXj"
   },
   "outputs": [],
   "source": [
    "def get_data(directory):\n",
    "    data = []\n",
    "    for sub_directory in os.listdir(directory):\n",
    "        if sub_directory == \"NORMAL\":\n",
    "            inner_directory = os.path.join(directory,sub_directory)\n",
    "            for i in os.listdir(inner_directory):\n",
    "                img = cv2.imread(os.path.join(inner_directory,i),1)#Il spécifie de charger une image en mode niveaux de gris. Alternativement, on peut passer la valeur entière 0 pour cet indicateur.\n",
    "                img = cv2.resize(img,(img_size,img_size))\n",
    "                data.append([img,assign_dict[sub_directory]])  \n",
    "        if sub_directory == \"COVID\":\n",
    "            inner_directory = os.path.join(directory,sub_directory)\n",
    "            for i in os.listdir(inner_directory):\n",
    "                img = cv2.imread(os.path.join(inner_directory,i),1)\n",
    "                img = cv2.resize(img,(img_size,img_size))\n",
    "                data.append([img,assign_dict[sub_directory]])\n",
    "    random.shuffle(data)  \n",
    "    return np.array(data)"
   ]
  },
  {
   "cell_type": "code",
   "execution_count": 7,
   "metadata": {
    "colab": {
     "base_uri": "https://localhost:8080/"
    },
    "executionInfo": {
     "elapsed": 198201,
     "status": "ok",
     "timestamp": 1622992213473,
     "user": {
      "displayName": "Wassim Choura",
      "photoUrl": "",
      "userId": "10130938976178051498"
     },
     "user_tz": -120
    },
    "id": "I9niPZ5YtmcI",
    "outputId": "4ef74315-8c49-4c08-d947-c4488fae1b83"
   },
   "outputs": [
    {
     "name": "stderr",
     "output_type": "stream",
     "text": [
      "/usr/local/lib/python3.7/dist-packages/ipykernel_launcher.py:17: VisibleDeprecationWarning: Creating an ndarray from ragged nested sequences (which is a list-or-tuple of lists-or-tuples-or ndarrays with different lengths or shapes) is deprecated. If you meant to do this, you must specify 'dtype=object' when creating the ndarray\n"
     ]
    }
   ],
   "source": [
    "test = get_data(path_test)"
   ]
  },
  {
   "cell_type": "code",
   "execution_count": 8,
   "metadata": {
    "executionInfo": {
     "elapsed": 29,
     "status": "ok",
     "timestamp": 1622992213474,
     "user": {
      "displayName": "Wassim Choura",
      "photoUrl": "",
      "userId": "10130938976178051498"
     },
     "user_tz": -120
    },
    "id": "mZyY7xfrtmc9"
   },
   "outputs": [],
   "source": [
    "def preprocessing_data(L):\n",
    "    X=[]; y=[]\n",
    "    for features,label in L:\n",
    "        X.append(features)\n",
    "        y.append(label)\n",
    "    X=np.array(X).reshape(-1, img_size, img_size, 3)/255\n",
    "    return X,np.array(y)"
   ]
  },
  {
   "cell_type": "code",
   "execution_count": 9,
   "metadata": {
    "executionInfo": {
     "elapsed": 394,
     "status": "ok",
     "timestamp": 1622992213844,
     "user": {
      "displayName": "Wassim Choura",
      "photoUrl": "",
      "userId": "10130938976178051498"
     },
     "user_tz": -120
    },
    "id": "jspBcphItmhg"
   },
   "outputs": [],
   "source": [
    "X_test, y_test = preprocessing_data(test)"
   ]
  },
  {
   "cell_type": "code",
   "execution_count": 10,
   "metadata": {
    "colab": {
     "base_uri": "https://localhost:8080/"
    },
    "executionInfo": {
     "elapsed": 15470,
     "status": "ok",
     "timestamp": 1622992229308,
     "user": {
      "displayName": "Wassim Choura",
      "photoUrl": "",
      "userId": "10130938976178051498"
     },
     "user_tz": -120
    },
    "id": "HUp1GUdRtmiT",
    "outputId": "d91a7c04-dea3-4890-ac46-6e71e0298712"
   },
   "outputs": [
    {
     "name": "stdout",
     "output_type": "stream",
     "text": [
      "WARNING:tensorflow:Error in loading the saved optimizer state. As a result, your model is starting with a freshly initialized optimizer.\n"
     ]
    }
   ],
   "source": [
    "from keras.models import load_model\n",
    "\n",
    "model_CNN = load_model(r'/content/drive/MyDrive/COVID-19_Radiography_Dataset/Basic_CNN.h5')\n",
    "model_vgg = load_model(r'/content/drive/MyDrive/COVID-19_Radiography_Dataset/CNN_vgg.h5')\n",
    "model_vgg_trainable = load_model(r'/content/drive/MyDrive/COVID-19_Radiography_Dataset/CNN_vgg_trainable.h5')\n",
    "model_Resnet_untrainable = load_model(r'/content/drive/MyDrive/COVID-19_Radiography_Dataset/CNN_Resnet_Untrainable.h5')"
   ]
  },
  {
   "cell_type": "code",
   "execution_count": 11,
   "metadata": {
    "executionInfo": {
     "elapsed": 7,
     "status": "ok",
     "timestamp": 1622992229309,
     "user": {
      "displayName": "Wassim Choura",
      "photoUrl": "",
      "userId": "10130938976178051498"
     },
     "user_tz": -120
    },
    "id": "I5uySWOQGsj1"
   },
   "outputs": [],
   "source": [
    "models_dict = {'CNN model': model_CNN,\n",
    "               'ResNet model': model_Resnet_untrainable,\n",
    "               'VGG model': model_vgg, \n",
    "               'VGG model changed': model_vgg_trainable}"
   ]
  },
  {
   "cell_type": "code",
   "execution_count": null,
   "metadata": {
    "colab": {
     "base_uri": "https://localhost:8080/"
    },
    "executionInfo": {
     "elapsed": 21274,
     "status": "ok",
     "timestamp": 1621771591605,
     "user": {
      "displayName": "Wassim Choura",
      "photoUrl": "",
      "userId": "10130938976178051498"
     },
     "user_tz": -120
    },
    "id": "BW_BJA4Ztmmz",
    "outputId": "facf9bf0-89a6-4ad1-867a-ff97af3b6429"
   },
   "outputs": [
    {
     "name": "stdout",
     "output_type": "stream",
     "text": [
      "27/27 [==============================] - 21s 744ms/step - loss: 3.1227 - accuracy: 0.5802\n"
     ]
    },
    {
     "data": {
      "text/plain": [
       "[3.1226696968078613, 0.580232560634613]"
      ]
     },
     "execution_count": 15,
     "metadata": {
      "tags": []
     },
     "output_type": "execute_result"
    }
   ],
   "source": [
    "model_CNN.evaluate(X_test,y_test)"
   ]
  },
  {
   "cell_type": "code",
   "execution_count": null,
   "metadata": {
    "colab": {
     "base_uri": "https://localhost:8080/"
    },
    "executionInfo": {
     "elapsed": 308369,
     "status": "ok",
     "timestamp": 1621771899969,
     "user": {
      "displayName": "Wassim Choura",
      "photoUrl": "",
      "userId": "10130938976178051498"
     },
     "user_tz": -120
    },
    "id": "XHkCgn9YuVP_",
    "outputId": "2e5f1c13-4c1e-462d-ab67-f92c8ff4c962"
   },
   "outputs": [
    {
     "name": "stdout",
     "output_type": "stream",
     "text": [
      "27/27 [==============================] - 308s 11s/step - loss: 0.1867 - accuracy: 0.9372\n"
     ]
    },
    {
     "data": {
      "text/plain": [
       "[0.18665321171283722, 0.9372093081474304]"
      ]
     },
     "execution_count": 16,
     "metadata": {
      "tags": []
     },
     "output_type": "execute_result"
    }
   ],
   "source": [
    "model_vgg.evaluate(X_test, y_test)"
   ]
  },
  {
   "cell_type": "code",
   "execution_count": null,
   "metadata": {
    "colab": {
     "base_uri": "https://localhost:8080/"
    },
    "executionInfo": {
     "elapsed": 307566,
     "status": "ok",
     "timestamp": 1621772208310,
     "user": {
      "displayName": "Wassim Choura",
      "photoUrl": "",
      "userId": "10130938976178051498"
     },
     "user_tz": -120
    },
    "id": "CiDxrB8HM3kh",
    "outputId": "dc4b025d-7a52-4d2c-d30c-de29963b4764"
   },
   "outputs": [
    {
     "name": "stdout",
     "output_type": "stream",
     "text": [
      "27/27 [==============================] - 307s 11s/step - loss: 0.1617 - accuracy: 0.9430\n"
     ]
    },
    {
     "data": {
      "text/plain": [
       "[0.16173410415649414, 0.9430232644081116]"
      ]
     },
     "execution_count": 17,
     "metadata": {
      "tags": []
     },
     "output_type": "execute_result"
    }
   ],
   "source": [
    "model_vgg_trainable.evaluate(X_test, y_test)"
   ]
  },
  {
   "cell_type": "code",
   "execution_count": null,
   "metadata": {
    "colab": {
     "base_uri": "https://localhost:8080/"
    },
    "executionInfo": {
     "elapsed": 85895,
     "status": "ok",
     "timestamp": 1621772294170,
     "user": {
      "displayName": "Wassim Choura",
      "photoUrl": "",
      "userId": "10130938976178051498"
     },
     "user_tz": -120
    },
    "id": "zXd1mGGiwDGw",
    "outputId": "c769af2b-260d-45d2-b09f-725c94ed5156"
   },
   "outputs": [
    {
     "name": "stdout",
     "output_type": "stream",
     "text": [
      "27/27 [==============================] - 86s 3s/step - loss: 0.3595 - accuracy: 0.8535\n"
     ]
    },
    {
     "data": {
      "text/plain": [
       "[0.35948726534843445, 0.8534883856773376]"
      ]
     },
     "execution_count": 18,
     "metadata": {
      "tags": []
     },
     "output_type": "execute_result"
    }
   ],
   "source": [
    "model_Resnet_untrainable.evaluate(X_test, y_test)"
   ]
  },
  {
   "cell_type": "code",
   "execution_count": 13,
   "metadata": {
    "executionInfo": {
     "elapsed": 4,
     "status": "ok",
     "timestamp": 1622992229977,
     "user": {
      "displayName": "Wassim Choura",
      "photoUrl": "",
      "userId": "10130938976178051498"
     },
     "user_tz": -120
    },
    "id": "CPk6iShi2Q9X"
   },
   "outputs": [],
   "source": [
    "from sklearn.metrics import confusion_matrix,classification_report,plot_confusion_matrix\n",
    "\n",
    "models=[model_CNN, model_vgg, model_vgg_trainable, model_Resnet_untrainable]\n",
    "def evaluation(model):\n",
    "    if model==model_CNN:\n",
    "    y_pred = model.predict_classes(X_test)\n",
    "    else:\n",
    "    y_pred = model.predict(X_test)\n",
    "    print('Confusion Matrix')\n",
    "    cm=confusion_matrix(y_test, np.array(np.round(y_pred), dtype='int'))\n",
    "\n",
    "    plt.imshow(cm, cmap=plt.cm.winter)\n",
    "    plt.xlabel(\"Predicted labels\")\n",
    "    plt.ylabel(\"True labels\")\n",
    "    tick_marks = np.arange(len(classes_dir))\n",
    "    plt.xticks(tick_marks, classes_dir)\n",
    "    plt.yticks(tick_marks, classes_dir)\n",
    "    plt.title('Confusion matrix ')\n",
    "\n",
    "    for i in range(cm.shape[0]):\n",
    "    for j in range(cm.shape[1]):\n",
    "        plt.text(j, i, format(cm[i, j], 'd'), horizontalalignment=\"center\",)\n",
    "\n",
    "    plt.show()\n",
    "    print('Classification Report')\n",
    "    print(classification_report(y_test, np.array(np.round(y_pred), dtype='int'), target_names=classes_dir))"
   ]
  },
  {
   "cell_type": "code",
   "execution_count": 14,
   "metadata": {
    "colab": {
     "base_uri": "https://localhost:8080/",
     "height": 1000
    },
    "executionInfo": {
     "elapsed": 63405,
     "status": "ok",
     "timestamp": 1622992293379,
     "user": {
      "displayName": "Wassim Choura",
      "photoUrl": "",
      "userId": "10130938976178051498"
     },
     "user_tz": -120
    },
    "id": "OxFvcygV3YKf",
    "outputId": "e5dfa0b8-5709-4e00-dd01-22e82350ecb1"
   },
   "outputs": [
    {
     "name": "stderr",
     "output_type": "stream",
     "text": [
      "/usr/local/lib/python3.7/dist-packages/keras/engine/sequential.py:450: UserWarning: `model.predict_classes()` is deprecated and will be removed after 2021-01-01. Please use instead:* `np.argmax(model.predict(x), axis=-1)`,   if your model does multi-class classification   (e.g. if it uses a `softmax` last-layer activation).* `(model.predict(x) > 0.5).astype(\"int32\")`,   if your model does binary classification   (e.g. if it uses a `sigmoid` last-layer activation).\n",
      "  warnings.warn('`model.predict_classes()` is deprecated and '\n"
     ]
    },
    {
     "name": "stdout",
     "output_type": "stream",
     "text": [
      "Confusion Matrix\n"
     ]
    },
    {
     "data": {
      "image/png": "[encoded data removed]",
      "text/plain": [
       "<Figure size 432x288 with 1 Axes>"
      ]
     },
     "metadata": {
      "needs_background": "light",
      "tags": []
     },
     "output_type": "display_data"
    },
    {
     "name": "stdout",
     "output_type": "stream",
     "text": [
      "Classification Report\n",
      "              precision    recall  f1-score   support\n",
      "\n",
      " COVID-19(-)       0.99      0.28      0.44       500\n",
      " COVID-19(+)       0.50      1.00      0.67       360\n",
      "\n",
      "    accuracy                           0.58       860\n",
      "   macro avg       0.75      0.64      0.55       860\n",
      "weighted avg       0.79      0.58      0.53       860\n",
      "\n",
      "Confusion Matrix\n"
     ]
    },
    {
     "data": {
      "image/png": "[encoded data removed]",
      "text/plain": [
       "<Figure size 432x288 with 1 Axes>"
      ]
     },
     "metadata": {
      "needs_background": "light",
      "tags": []
     },
     "output_type": "display_data"
    },
    {
     "name": "stdout",
     "output_type": "stream",
     "text": [
      "Classification Report\n",
      "              precision    recall  f1-score   support\n",
      "\n",
      " COVID-19(-)       0.92      0.98      0.95       500\n",
      " COVID-19(+)       0.97      0.88      0.92       360\n",
      "\n",
      "    accuracy                           0.94       860\n",
      "   macro avg       0.94      0.93      0.93       860\n",
      "weighted avg       0.94      0.94      0.94       860\n",
      "\n",
      "Confusion Matrix\n"
     ]
    },
    {
     "data": {
      "image/png": "[encoded data removed]",
      "text/plain": [
       "<Figure size 432x288 with 1 Axes>"
      ]
     },
     "metadata": {
      "needs_background": "light",
      "tags": []
     },
     "output_type": "display_data"
    },
    {
     "name": "stdout",
     "output_type": "stream",
     "text": [
      "Classification Report\n",
      "              precision    recall  f1-score   support\n",
      "\n",
      " COVID-19(-)       0.95      0.96      0.95       500\n",
      " COVID-19(+)       0.94      0.93      0.93       360\n",
      "\n",
      "    accuracy                           0.94       860\n",
      "   macro avg       0.94      0.94      0.94       860\n",
      "weighted avg       0.94      0.94      0.94       860\n",
      "\n",
      "Confusion Matrix\n"
     ]
    },
    {
     "data": {
      "image/png": "[encoded data removed]",
      "text/plain": [
       "<Figure size 432x288 with 1 Axes>"
      ]
     },
     "metadata": {
      "needs_background": "light",
      "tags": []
     },
     "output_type": "display_data"
    },
    {
     "name": "stdout",
     "output_type": "stream",
     "text": [
      "Classification Report\n",
      "              precision    recall  f1-score   support\n",
      "\n",
      " COVID-19(-)       0.84      0.92      0.88       500\n",
      " COVID-19(+)       0.88      0.76      0.81       360\n",
      "\n",
      "    accuracy                           0.85       860\n",
      "   macro avg       0.86      0.84      0.85       860\n",
      "weighted avg       0.86      0.85      0.85       860\n",
      "\n"
     ]
    }
   ],
   "source": [
    "for model in models:\n",
    "    evaluation(model)"
   ]
  },
  {
   "cell_type": "code",
   "execution_count": 20,
   "metadata": {
    "executionInfo": {
     "elapsed": 264,
     "status": "ok",
     "timestamp": 1622992795372,
     "user": {
      "displayName": "Wassim Choura",
      "photoUrl": "",
      "userId": "10130938976178051498"
     },
     "user_tz": -120
    },
    "id": "wKwFNYAQ5t5c"
   },
   "outputs": [],
   "source": [
    "from sklearn import metrics\n",
    "from sklearn.metrics import roc_curve, auc \n",
    "\n",
    "def plot_model_roc_curve(clf, features, true_labels, label_encoder=None, class_names=None):\n",
    "    \n",
    "    ## Compute ROC curve and ROC area for each class\n",
    "    fpr = dict()\n",
    "    tpr = dict()\n",
    "    roc_auc = dict()\n",
    "    if hasattr(clf, 'classes_'):\n",
    "        class_labels = clf.classes_\n",
    "    elif label_encoder:\n",
    "        class_labels = label_encoder.classes_\n",
    "    elif class_names:\n",
    "        class_labels = class_names\n",
    "    else:\n",
    "        raise ValueError('Unable to derive prediction classes, please specify class_names!')\n",
    "    n_classes = len(class_labels)\n",
    "    y_test = label_binarize(true_labels, classes=class_labels)\n",
    "    if n_classes == 2:\n",
    "        if hasattr(clf, 'predict_proba'):\n",
    "            prob = clf.predict_proba(features)\n",
    "            y_score = prob[:, prob.shape[1]-1] \n",
    "        elif hasattr(clf, 'decision_function'):\n",
    "            prob = clf.decision_function(features)\n",
    "            y_score = prob[:, prob.shape[1]-1]\n",
    "        else:\n",
    "            prob = clf.predict(X_test)\n",
    "            y_score = np.array(np.round(prob), dtype='int')\n",
    "        fpr, tpr, _ = roc_curve(y_test, y_score)      \n",
    "        roc_auc = auc(fpr, tpr)\n",
    "        plt.figure(figsize=(8,4))\n",
    "        plt.plot(fpr, tpr, label='ROC curve (area = {0:0.2f})'\n",
    "                                 ''.format(roc_auc),\n",
    "                 linewidth=2.5)\n",
    "        plt.xlabel('False positive rate')\n",
    "        plt.ylabel('True positive rate')\n",
    "        plt.plot([0.0, 1.0], linewidth=2, linestyle = 'dashed', color='black')\n",
    "        plt.legend()\n"
   ]
  },
  {
   "cell_type": "code",
   "execution_count": 21,
   "metadata": {
    "colab": {
     "base_uri": "https://localhost:8080/",
     "height": 1000
    },
    "executionInfo": {
     "elapsed": 8702,
     "status": "ok",
     "timestamp": 1622992805414,
     "user": {
      "displayName": "Wassim Choura",
      "photoUrl": "",
      "userId": "10130938976178051498"
     },
     "user_tz": -120
    },
    "id": "o4dXzlIoC4qN",
    "outputId": "86e2cfef-822f-41c4-e3c8-af7cd5e05756"
   },
   "outputs": [
    {
     "name": "stderr",
     "output_type": "stream",
     "text": [
      "/usr/local/lib/python3.7/dist-packages/keras/engine/sequential.py:425: UserWarning: `model.predict_proba()` is deprecated and will be removed after 2021-01-01. Please use `model.predict()` instead.\n",
      "  warnings.warn('`model.predict_proba()` is deprecated and '\n"
     ]
    },
    {
     "data": {
      "image/png": "[encoded data removed]",
      "text/plain": [
       "<Figure size 576x288 with 1 Axes>"
      ]
     },
     "metadata": {
      "needs_background": "light",
      "tags": []
     },
     "output_type": "display_data"
    },
    {
     "data": {
      "image/png": "[encoded data removed]",
      "text/plain": [
       "<Figure size 576x288 with 1 Axes>"
      ]
     },
     "metadata": {
      "needs_background": "light",
      "tags": []
     },
     "output_type": "display_data"
    },
    {
     "data": {
      "image/png": "[encoded data removed]",
      "text/plain": [
       "<Figure size 576x288 with 1 Axes>"
      ]
     },
     "metadata": {
      "needs_background": "light",
      "tags": []
     },
     "output_type": "display_data"
    },
    {
     "data": {
      "image/png": "[encoded data removed]",
      "text/plain": [
       "<Figure size 576x288 with 1 Axes>"
      ]
     },
     "metadata": {
      "needs_background": "light",
      "tags": []
     },
     "output_type": "display_data"
    }
   ],
   "source": [
    "plot_model_roc_curve(model_CNN , X_test ,\n",
    "                         y_test, \n",
    "                         class_names=[0, 1])\n",
    "\n",
    "plot_model_roc_curve(model_vgg, X_test ,\n",
    "                         y_test, \n",
    "                         class_names=[0, 1]) \n",
    "\n",
    "plot_model_roc_curve(model_vgg_trainable , X_test ,\n",
    "                         y_test, \n",
    "                         class_names=[0, 1]) \n",
    "\n",
    "plot_model_roc_curve(model_Resnet_untrainable , X_test ,\n",
    "                         y_test, \n",
    "                         class_names=[0, 1])"
   ]
  }
 ],
 "metadata": {
  "accelerator": "GPU",
  "colab": {
   "authorship_tag": "ABX9TyOqU49SiuzPPYf02Wf5azsr",
   "name": "pfa 1.ipynb",
   "provenance": []
  },
  "kernelspec": {
   "display_name": "Python 3 (ipykernel)",
   "language": "python",
   "name": "python3"
  },
  "language_info": {
   "codemirror_mode": {
    "name": "ipython",
    "version": 3
   },
   "file_extension": ".py",
   "mimetype": "text/x-python",
   "name": "python",
   "nbconvert_exporter": "python",
   "pygments_lexer": "ipython3",
   "version": "3.9.7"
  }
 },
 "nbformat": 4,
 "nbformat_minor": 1
}
